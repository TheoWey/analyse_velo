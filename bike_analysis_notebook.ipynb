{
 "cells": [
  {
   "cell_type": "code",
   "execution_count": 3,
   "id": "37172faa",
   "metadata": {},
   "outputs": [],
   "source": [
    "# Importing necessary modules\n",
    "from tools import DataTools\n",
    "# Importing necessary modules\n",
    "from data import Data\n",
    "# Importing necessary modules\n",
    "from datetime import datetime\n",
    "# Importing necessary modules\n",
    "import pandas as pd\n",
    "# Importing necessary modules\n",
    "from sklearn.linear_model import LinearRegression\n",
    "# Importing necessary modules\n",
    "import matplotlib.pyplot as plt\n",
    "# Importing necessary modules\n",
    "import seaborn as sns\n",
    "# Importing necessary modules\n",
    "import gc\n",
    "# Add import for the time module\n",
    "import time"
   ]
  },
  {
   "cell_type": "markdown",
   "id": "59b465e8",
   "metadata": {},
   "source": [
    "### 🕒 Étape 1 : Définir la date d'analyse\n",
    "Dans cette étape, nous définissons une date et une heure spécifiques à analyser. Cette date servira à charger les fichiers de données correspondants à l’année choisie."
   ]
  },
  {
   "cell_type": "markdown",
   "id": "cb4244af",
   "metadata": {},
   "source": [
    "Notre code fonctionne de manière flexible, si l'on veut toutes les données d'une année il suffit de renseigner l'année souhaitée, si l'on veut le détail sur un mois, on lui donne le mois, et si l'on veut le détail que sur certains jours on peut aussi lui spécifier la date et l'heure d'un jour en particulier. "
   ]
  },
  {
   "cell_type": "code",
   "execution_count": 5,
   "id": "06b7f75e",
   "metadata": {},
   "outputs": [],
   "source": [
    "specified_time = \"2022-11-29 10:00\"\n",
    "# Convert string to datetime object\n",
    "specified_time = datetime.strptime(specified_time, \"%Y-%m-%d %H:%M\")\n",
    "# Format the datetime object to extract the year\n",
    "formatted_time = specified_time.strftime(\"%Y\")\n",
    "\n",
    "# URL de l'API JCDecaux pour récupérer tous les contrats\n",
    "contracts_url = \"https://api.jcdecaux.com/vls/v3/contracts\"\n",
    "api_key = \"412c37eac090528b3f24fe5843badacb6f3e907f\"  # Remplacez par votre clé API"
   ]
  },
  {
   "cell_type": "markdown",
   "id": "09cae81e",
   "metadata": {},
   "source": [
    "### 📂 Étape 2 : Charger les données des stations de vélos\n",
    "Nous chargeons ici les fichiers contenant les métadonnées des stations de vélos, comme leur position, leur capacité et leur ville associée. Ces informations sont utilisées plus tard pour enrichir les données d'utilisation des vélos."
   ]
  },
  {
   "cell_type": "code",
   "execution_count": null,
   "id": "2956291a",
   "metadata": {},
   "outputs": [],
   "source": [
    "path = r\"..\\data_files\"\n",
    "data_directory = r\"..\\data_files\\data\"\n",
    "correct_header_data_bikes = [\"city\", \"id\", \"request_date\", \"datetime\", \"bikes\"]\n",
    "\n",
    "# Open and read data files from the specified directory\n",
    "station_data = DataTools.open_files_in_directory(path, \"bike_station\", \"\\t\")\n",
    "bike_station = Data()\n",
    "# Load the opened data into a Data object\n",
    "bike_station.get_data(station_data)\n",
    "# Filter the data by city or station name\n",
    "bike_station.filter_dataframes(\"city\", [\"amiens\", \"marseille\"])\n",
    "del station_data"
   ]
  },
  {
   "cell_type": "markdown",
   "id": "0c7f5969",
   "metadata": {},
   "source": [
    "### 🧪 Étape 3 : Charger les données de pollution et de météo\n",
    "On importe les données mesurées par les stations de pollution et météo. Ces données sont cruciales pour les corrélations futures avec l’utilisation des vélos."
   ]
  },
  {
   "cell_type": "code",
   "execution_count": null,
   "id": "7d6179d4",
   "metadata": {},
   "outputs": [],
   "source": [
    "# Open and read data files from the specified directory\n",
    "station_data = DataTools.open_files_in_directory(path, \"pollution_station\", \",\")\n",
    "pollution_station = Data()\n",
    "# Load the opened data into a Data object\n",
    "pollution_station.get_data(station_data)\n",
    "# Filter the data by city or station name\n",
    "pollution_station.filter_dataframes(\"city\", [\"amiens\", \"marseille\"])\n",
    "del station_data\n",
    "\n",
    "# Open and read data files from the specified directory\n",
    "weather_data = DataTools.open_files_in_directory(data_directory, f\"weather_{formatted_time}\", \",\")\n",
    "data_weather = Data()\n",
    "# Load the opened data into a Data object\n",
    "data_weather.get_data(weather_data)\n",
    "# Filter the data by city or station name\n",
    "data_weather.filter_dataframes(\"name\", [\"Amiens\", \"Marseille\"])\n",
    "del weather_data\n",
    "\n",
    "# Open and read data files from the specified directory\n",
    "pollution_data = DataTools.open_files_in_directory(data_directory, f\"pollution_{formatted_time}\", \",\")\n",
    "data_pollution = Data()\n",
    "# Load the opened data into a Data object\n",
    "data_pollution.get_data(pollution_data)\n",
    "# Filter the data by city or station name\n",
    "data_pollution.filter_dataframes(\"name\", [\"Amiens\"])\n",
    "del pollution_data"
   ]
  },
  {
   "cell_type": "markdown",
   "id": "2a71174b",
   "metadata": {},
   "source": [
    "### 🚲 Étape 4 : Charger et fusionner les données des vélos\n",
    "Les données d’utilisation des vélos (nombre de vélos disponibles, etc.) sont chargées. Ensuite, on les enrichit en fusionnant avec les métadonnées des stations pour ajouter la géolocalisation, la capacité et l’identifiant de pollution."
   ]
  },
  {
   "cell_type": "code",
   "execution_count": null,
   "id": "341a3733",
   "metadata": {},
   "outputs": [],
   "source": [
    "# Open and read data files from the specified directory\n",
    "bike_data = DataTools.open_files_in_directory(data_directory, f\"bike_{formatted_time}\", \"\\t\")\n",
    "# Standardize column headers in the bike data\n",
    "bike_data = DataTools.rename_header(bike_data, correct_header_data_bikes, keep_old_header=True)\n",
    "\n",
    "data_bike = Data()\n",
    "# Load the opened data into a Data object\n",
    "data_bike.get_data(bike_data)\n",
    "# Filter the data by city or station name\n",
    "data_bike.filter_dataframes(\"city\", [\"amiens\", \"marseille\"])\n",
    "del bike_data\n",
    "\n",
    "# Merge additional information (e.g., location, capacity) into bike or pollution data\n",
    "data_bike.data = DataTools.merge_dataframes(\n",
    "    data_bike.data, bike_station.data, \"id\", \"id\", [\"bike_stands\", \"latitude\", \"longitude\", \"id_pollution\"]\n",
    ")\n",
    "\n",
    "# Merge additional information (e.g., location, capacity) into bike or pollution data\n",
    "data_pollution.data = DataTools.merge_dataframes(\n",
    "    data_pollution.data, pollution_station.data, \"id\", \"id\", [\"latitude\", \"longitude\"]\n",
    ")\n",
    "\n",
    "del pollution_station\n",
    "del bike_station"
   ]
  },
  {
   "cell_type": "markdown",
   "id": "84627907",
   "metadata": {},
   "source": [
    "### 📊 Étape 5 : Calculer la capacité et les statistiques d'utilisation des vélos\n",
    "Nous analysons l’utilisation des vélos par ville : combien de vélos sont disponibles, combien sont utilisés quotidiennement ou à différentes périodes de la journée."
   ]
  },
  {
   "cell_type": "code",
   "execution_count": null,
   "id": "0419ddcf",
   "metadata": {},
   "outputs": [],
   "source": [
    "# Calculate the total number of bike slots available in the specified city\n",
    "bike_count_amiens = DataTools.calul_capacity(data_bike.data, \"amiens\")\n",
    "# Calculate the total number of bike slots available in the specified city\n",
    "bike_count_marseille = DataTools.calul_capacity(data_bike.data, \"marseille\")\n",
    "\n",
    "print(f\"Number of slots in Amiens: {bike_count_amiens}\")\n",
    "print(f\"Number of slots in Marseille: {bike_count_marseille}\")\n",
    "\n",
    "# Compute bike usage statistics such as daily and hourly usage\n",
    "dailyuse_amiens, period_use_amiens, useperhour_amiens = DataTools.calculate_use(\n",
    "    data_bike.data[data_bike.data[\"city\"] == \"amiens\"]\n",
    ")\n",
    "# Compute bike usage statistics such as daily and hourly usage\n",
    "dailyuse_marseille, period_use_marseille, useperhour_marseille = DataTools.calculate_use(\n",
    "    data_bike.data[data_bike.data[\"city\"] == \"marseille\"]\n",
    ")"
   ]
  },
  {
   "cell_type": "markdown",
   "id": "23af20ef",
   "metadata": {},
   "source": [
    "### 🔍 Étape 6 : Réaliser une analyse de corrélation\n",
    "Nous examinons les liens entre l’utilisation des vélos et différents paramètres météorologiques (température, humidité...) ou environnementaux (polluants comme NO2, O3...)."
   ]
  },
  {
   "cell_type": "code",
   "execution_count": null,
   "id": "2bef9a73",
   "metadata": {},
   "outputs": [],
   "source": [
    "# Perform correlation analysis between bike usage and environmental factors\n",
    "DataTools.corr_analysis(\n",
    "    [dailyuse_amiens, data_weather.data],\n",
    "    [\"total_bikes_used\", [\"temp\", \"temp_max\", \"temp_min\", \"humidity\", \"speed\", \"clouds\"]],\n",
    ")\n",
    "\n",
    "# Perform correlation analysis between bike usage and environmental factors\n",
    "DataTools.corr_analysis(\n",
    "    [dailyuse_amiens, data_pollution.data],\n",
    "    [\"total_bikes_used\", [\"NO\", \"NO2\", \"NOX as NO2\", \"O3\", \"PM10\", \"PM2.5\"]],\n",
    ")\n",
    "\n",
    "# Perform correlation analysis between bike usage and environmental factors\n",
    "DataTools.corr_analysis(\n",
    "    [dailyuse_marseille, data_weather.data],\n",
    "    [\"total_bikes_used\", [\"temp\", \"temp_max\", \"temp_min\", \"humidity\", \"speed\", \"clouds\"]],\n",
    ")\n",
    "\n",
    "# Perform correlation analysis between bike usage and environmental factors\n",
    "DataTools.corr_analysis(\n",
    "    [dailyuse_marseille, data_pollution.data],\n",
    "    [\"total_bikes_used\", [\"NO\", \"NO2\", \"NOX as NO2\", \"O3\", \"PM10\", \"PM2.5\"]],\n",
    ")"
   ]
  },
  {
   "cell_type": "markdown",
   "id": "3e03f40d",
   "metadata": {
    "vscode": {
     "languageId": "ini"
    }
   },
   "source": [
    "### 🤖 Étape 7 : Prédire l'utilisation des vélos\n",
    "Dans cette étape, nous utilisons des modèles de régression et de classification pour prédire l'utilisation des vélos en fonction des données météorologiques et environnementales. Nous évaluons également les performances des modèles et effectuons des prédictions sur de nouvelles données. Les modèles peuvent être sauvegardés pour une utilisation future."
   ]
  },
  {
   "cell_type": "code",
   "execution_count": null,
   "id": "4c00c4b3",
   "metadata": {},
   "outputs": [],
   "source": [
    "results = DataTools.predict_bike_usage(\n",
    "    usage_data=dailyuse_amiens, \n",
    "    weather_data=data_weather.data,\n",
    "    pollution_data=data_pollution.data,\n",
    "    threshold=100 # Optional: value above which usage is considered \"high\"\n",
    ")\n",
    "# After calling predict_bike_usage, add the following code to use the results:\n",
    "# Check if the prediction was successful\n",
    "if results and 'error' not in results:\n",
    "    print(\"\\n===== USING PREDICTION RESULTS =====\")\n",
    "    \n",
    "    # 1. Access the regression model metrics\n",
    "    if 'regression' in results:\n",
    "        reg_metrics = results['regression']\n",
    "        print(f\"Regression model R² score: {reg_metrics['r2']:.4f}\")\n",
    "        print(f\"RMSE: {reg_metrics['rmse']:.2f} bikes\")\n",
    "        \n",
    "        # Make a prediction with the regression model for a new data point\n",
    "        # Example: predict bike usage for a specific set of features\n",
    "        new_data = pd.DataFrame({\n",
    "            'day_of_week': [0],  # Monday\n",
    "            'month': [6],        # June\n",
    "            'is_weekend': [0],   # Not weekend\n",
    "            'temp': [25],        # 25°C\n",
    "            'humidity': [50]     # 50% humidity\n",
    "            # Add other features as needed\n",
    "        })\n",
    "        \n",
    "        # Make sure to use only the features that the model was trained on\n",
    "        missing_cols = set(reg_metrics['features']) - set(new_data.columns)\n",
    "        for col in missing_cols:\n",
    "            new_data[col] = 0  # Fill missing columns with default values\n",
    "            \n",
    "        new_data = new_data[reg_metrics['features']]  # Reorder columns\n",
    "        \n",
    "        # Scale the data using the same scaler used for training\n",
    "        scaled_data = reg_metrics['scaler'].transform(new_data)\n",
    "        \n",
    "        # Make prediction\n",
    "        predicted_usage = reg_metrics['model'].predict(scaled_data)[0]\n",
    "        print(f\"Predicted bike usage for a 25°C Monday in June: {predicted_usage:.0f} bikes\")\n",
    "    \n",
    "    # 2. Use the classification model for high/low usage prediction\n",
    "    if 'classification' in results:\n",
    "        print(\"\\nBinary classification performance:\")\n",
    "        print(f\"Accuracy: {results['classification']['accuracy']:.2f}\")\n",
    "        \n",
    "        # You could predict if usage will be high or low for new data\n",
    "        if reg_metrics and 'model' in results['classification']:\n",
    "            high_usage = results['classification']['model'].predict(scaled_data)[0]\n",
    "            print(f\"High usage day? {'Yes' if high_usage else 'No'}\")\n",
    "    \n",
    "    # 3. Use the category classification model\n",
    "    if 'category_classification' in results:\n",
    "        print(\"\\nCategory classification performance:\")\n",
    "        print(f\"Accuracy: {results['category_classification']['accuracy']:.2f}\")\n",
    "        \n",
    "        # Predict usage category (low/medium/high) for new data\n",
    "        if reg_metrics and 'model' in results['category_classification']:\n",
    "            category = results['category_classification']['model'].predict(scaled_data)[0]\n",
    "            print(f\"Usage category: {category}\")\n",
    "    \n",
    "    # 4. You could save the models for future use\n",
    "# Importing necessary modules\n",
    "    import pickle\n",
    "    \n",
    "    # Save regression model\n",
    "    if 'regression' in results:\n",
    "        with open('bike_usage_regression_model.pkl', 'wb') as f:\n",
    "            pickle.dump({\n",
    "                'model': results['regression']['model'],\n",
    "                'scaler': results['regression']['scaler'],\n",
    "                'features': results['regression']['features']\n",
    "            }, f)\n",
    "        print(\"\\nRegression model saved to 'bike_usage_regression_model.pkl'\")\n",
    "        \n",
    "    print(\"\\n===== END OF RESULTS USAGE =====\")\n",
    "else:\n",
    "    print(\"Prediction failed or returned no results.\")"
   ]
  },
  {
   "cell_type": "markdown",
   "id": "9feb00c4",
   "metadata": {},
   "source": [
    "### 🚀 Etape 8 : Side Project\n",
    "\n",
    "Nous avons avancé sur des parties du code qui peuvent être intégrées avec le reste pour une utilisation plus réelle et moins académique. Ces améliorations visent à rendre le projet plus pratique et applicable dans des contextes concrets."
   ]
  },
  {
   "cell_type": "markdown",
   "id": "2c607086",
   "metadata": {},
   "source": [
    "Ici, nous appelons des fonctions qui nous permettent de tracer sur une carte toutes les stations de vélo avec le taux de remplissage à un temps donné. Les marqueurs affichent les stations avec une vue maps ou satellite. Si l'on passe la souris sur un marqueur, un popup s'ouvre indiquant le nombre de places, le nombre de vélos et le taux de remplissage."
   ]
  },
  {
   "cell_type": "code",
   "execution_count": null,
   "id": "79072209",
   "metadata": {},
   "outputs": [],
   "source": [
    "station_data = data_bike.data.drop_duplicates(subset=[\"id\"])\n",
    "\n",
    "# Create map with bike stations\n",
    "DataTools.create_bike_station_map(\n",
    "    station_data_list=[station_data],\n",
    "    bike_data_list=[data_bike.data],\n",
    "    specified_time=specified_time\n",
    ")"
   ]
  },
  {
   "cell_type": "markdown",
   "id": "91974622",
   "metadata": {},
   "source": [
    "Ici, nous faisons un appel à l'API publique de JCDecaux qui gère les vélos d'Amiens. Les données sont récupérées puis stockées dans un fichier Excel. Ces données sont mises à jour toutes les minutes, donc une boucle while nous permet de générer un fichier par minute.  \n",
    "Ces données peuvent ensuite directement être utilisées par les autres fonctions, par exemple pour prédire l'utilisation des vélos durant l'heure suivante (chose non implémentée ici)."
   ]
  },
  {
   "cell_type": "code",
   "execution_count": null,
   "id": "f802aef3",
   "metadata": {},
   "outputs": [],
   "source": [
    "print(\"Liste des contrats disponibles :\")\n",
    "DataTools.get_api_data(contracts_url, api_key)\n",
    "\n",
    "# Récupérer les stations pour Marseille et Amiens\n",
    "marseille_stations = DataTools.get_station_names(api_key, \"Marseille\")\n",
    "amiens_stations = DataTools.get_station_names(api_key, \"Amiens\")\n",
    "toulouse_stations = DataTools.get_station_names(api_key, \"Toulouse\")\n",
    "\n",
    "while(True):\n",
    "    start_time = time.time()\n",
    "    # Sauvegarder les données dans un fichier CSV pour Marseille et Amiens\n",
    "    now = datetime.now()\n",
    "    date_str = now.strftime(\"%Y_%m_%d_%H_%M\")  # Format : annee_mois_jour_heure_minute\n",
    "    \n",
    "    if marseille_stations:\n",
    "        DataTools.save_station_data_to_xlsx(marseille_stations, \"Marseille\", api_key, date_str)\n",
    "\n",
    "    # if toulouse_stations:\n",
    "    #    DataTools.save_station_data_to_xlsx(toulouse_stations, \"Toulouse\", api_key, date_str)\n",
    "\n",
    "    if amiens_stations:\n",
    "        DataTools.save_station_data_to_xlsx(amiens_stations, \"Amiens\", api_key, date_str)\n",
    "        \n",
    "    time.sleep(max(0, 60 - (time.time() - start_time)))"
   ]
  },
  {
   "cell_type": "markdown",
   "id": "67ba700c",
   "metadata": {},
   "source": [
    "### ✅ Étape finale : Nettoyage\n",
    "Pour conclure, nous libérons explicitement la mémoire utilisée pour assurer de bonnes performances et éviter les fuites mémoire."
   ]
  },
  {
   "cell_type": "code",
   "execution_count": null,
   "id": "29c10840",
   "metadata": {},
   "outputs": [],
   "source": [
    "# Explicitly free memory\n",
    "gc.collect()\n",
    "print(\"Program completed successfully. Memory freed.\")"
   ]
  }
 ],
 "metadata": {
  "kernelspec": {
   "display_name": ".venv",
   "language": "python",
   "name": "python3"
  },
  "language_info": {
   "codemirror_mode": {
    "name": "ipython",
    "version": 3
   },
   "file_extension": ".py",
   "mimetype": "text/x-python",
   "name": "python",
   "nbconvert_exporter": "python",
   "pygments_lexer": "ipython3",
   "version": "3.13.3"
  }
 },
 "nbformat": 4,
 "nbformat_minor": 5
}

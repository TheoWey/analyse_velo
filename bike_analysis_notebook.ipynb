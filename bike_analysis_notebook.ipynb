{
 "cells": [
  {
   "cell_type": "code",
   "execution_count": null,
   "id": "37172faa",
   "metadata": {},
   "outputs": [],
   "source": [
    "from tools import DataTools\n",
    "from data import Data\n",
    "from datetime import datetime\n",
    "import pandas as pd\n",
    "from sklearn.linear_model import LinearRegression\n",
    "import matplotlib.pyplot as plt\n",
    "import seaborn as sns\n",
    "import gc"
   ]
  },
  {
   "cell_type": "markdown",
   "id": "59b465e8",
   "metadata": {},
   "source": [
    "## 🕒 Step 1: Define the Date for Analysis"
   ]
  },
  {
   "cell_type": "code",
   "execution_count": null,
   "id": "06b7f75e",
   "metadata": {},
   "outputs": [],
   "source": [
    "specified_time = \"2022-11-29 10:00\"\n",
    "specified_time = datetime.strptime(specified_time, \"%Y-%m-%d %H:%M\")\n",
    "formatted_time = specified_time.strftime(\"%Y\")"
   ]
  },
  {
   "cell_type": "markdown",
   "id": "09cae81e",
   "metadata": {},
   "source": [
    "## 📂 Step 2: Load Station Data"
   ]
  },
  {
   "cell_type": "code",
   "execution_count": null,
   "id": "2956291a",
   "metadata": {},
   "outputs": [],
   "source": [
    "path = r\"..\\data_files\"\n",
    "data_directory = r\"..\\data_files\\data\"\n",
    "correct_header_data_bikes = [\"city\", \"id\", \"request_date\", \"datetime\", \"bikes\"]\n",
    "\n",
    "station_data = DataTools.open_files_in_directory(path, \"bike_station\", \"\\t\")\n",
    "bike_station = Data()\n",
    "bike_station.get_data(station_data)\n",
    "bike_station.filter_dataframes(\"city\", [\"amiens\", \"marseille\"])\n",
    "del station_data"
   ]
  },
  {
   "cell_type": "markdown",
   "id": "0c7f5969",
   "metadata": {},
   "source": [
    "## 🧪 Step 3: Load Pollution and Weather Station Data"
   ]
  },
  {
   "cell_type": "code",
   "execution_count": null,
   "id": "7d6179d4",
   "metadata": {},
   "outputs": [],
   "source": [
    "station_data = DataTools.open_files_in_directory(path, \"pollution_station\", \",\")\n",
    "pollution_station = Data()\n",
    "pollution_station.get_data(station_data)\n",
    "pollution_station.filter_dataframes(\"city\", [\"amiens\", \"marseille\"])\n",
    "del station_data\n",
    "\n",
    "weather_data = DataTools.open_files_in_directory(data_directory, f\"weather_{formatted_time}\", \",\")\n",
    "data_weather = Data()\n",
    "data_weather.get_data(weather_data)\n",
    "data_weather.filter_dataframes(\"name\", [\"Amiens\", \"Marseille\"])\n",
    "del weather_data\n",
    "\n",
    "pollution_data = DataTools.open_files_in_directory(data_directory, f\"pollution_{formatted_time}\", \",\")\n",
    "data_pollution = Data()\n",
    "data_pollution.get_data(pollution_data)\n",
    "data_pollution.filter_dataframes(\"name\", [\"Amiens\"])\n",
    "del pollution_data"
   ]
  },
  {
   "cell_type": "markdown",
   "id": "2a71174b",
   "metadata": {},
   "source": [
    "## 🚲 Step 4: Load and Merge Bike Data"
   ]
  },
  {
   "cell_type": "code",
   "execution_count": null,
   "id": "341a3733",
   "metadata": {},
   "outputs": [],
   "source": [
    "bike_data = DataTools.open_files_in_directory(data_directory, f\"bike_{formatted_time}\", \"\\t\")\n",
    "bike_data = DataTools.rename_header(bike_data, correct_header_data_bikes, keep_old_header=True)\n",
    "\n",
    "data_bike = Data()\n",
    "data_bike.get_data(bike_data)\n",
    "data_bike.filter_dataframes(\"city\", [\"amiens\", \"marseille\"])\n",
    "del bike_data\n",
    "\n",
    "data_bike.data = DataTools.merge_dataframes(\n",
    "    data_bike.data, bike_station.data, \"id\", \"id\", [\"bike_stands\", \"latitude\", \"longitude\", \"id_pollution\"]\n",
    ")\n",
    "\n",
    "data_pollution.data = DataTools.merge_dataframes(\n",
    "    data_pollution.data, pollution_station.data, \"id\", \"id\", [\"latitude\", \"longitude\"]\n",
    ")\n",
    "\n",
    "del pollution_station\n",
    "del bike_station"
   ]
  },
  {
   "cell_type": "markdown",
   "id": "84627907",
   "metadata": {},
   "source": [
    "## 📊 Step 5: Calculate Bike Usage Capacity and Statistics"
   ]
  },
  {
   "cell_type": "code",
   "execution_count": null,
   "id": "0419ddcf",
   "metadata": {},
   "outputs": [],
   "source": [
    "bike_count_amiens = DataTools.calul_capacity(data_bike.data, \"amiens\")\n",
    "bike_count_marseille = DataTools.calul_capacity(data_bike.data, \"marseille\")\n",
    "\n",
    "print(f\"Number of slots in Amiens: {bike_count_amiens}\")\n",
    "print(f\"Number of slots in Marseille: {bike_count_marseille}\")\n",
    "\n",
    "dailyuse_amiens, period_use_amiens, useperhour_amiens = DataTools.calculate_use(\n",
    "    data_bike.data[data_bike.data[\"city\"] == \"amiens\"]\n",
    ")\n",
    "dailyuse_marseille, period_use_marseille, useperhour_marseille = DataTools.calculate_use(\n",
    "    data_bike.data[data_bike.data[\"city\"] == \"marseille\"]\n",
    ")"
   ]
  },
  {
   "cell_type": "markdown",
   "id": "23af20ef",
   "metadata": {},
   "source": [
    "## 🔍 Step 6: Perform Correlation Analysis"
   ]
  },
  {
   "cell_type": "code",
   "execution_count": null,
   "id": "2bef9a73",
   "metadata": {},
   "outputs": [],
   "source": [
    "DataTools.corr_analysis(\n",
    "    [dailyuse_amiens, data_weather.data],\n",
    "    [\"total_bikes_used\", [\"temp\", \"temp_max\", \"temp_min\", \"humidity\", \"speed\", \"clouds\"]],\n",
    ")\n",
    "\n",
    "DataTools.corr_analysis(\n",
    "    [dailyuse_amiens, data_pollution.data],\n",
    "    [\"total_bikes_used\", [\"NO\", \"NO2\", \"NOX as NO2\", \"O3\", \"PM10\", \"PM2.5\"]],\n",
    ")\n",
    "\n",
    "DataTools.corr_analysis(\n",
    "    [dailyuse_marseille, data_weather.data],\n",
    "    [\"total_bikes_used\", [\"temp\", \"temp_max\", \"temp_min\", \"humidity\", \"speed\", \"clouds\"]],\n",
    ")\n",
    "\n",
    "DataTools.corr_analysis(\n",
    "    [dailyuse_marseille, data_pollution.data],\n",
    "    [\"total_bikes_used\", [\"NO\", \"NO2\", \"NOX as NO2\", \"O3\", \"PM10\", \"PM2.5\"]],\n",
    ")"
   ]
  },
  {
   "cell_type": "markdown",
   "id": "67ba700c",
   "metadata": {},
   "source": [
    "## ✅ Final Step: Clean Up"
   ]
  },
  {
   "cell_type": "code",
   "execution_count": null,
   "id": "29c10840",
   "metadata": {},
   "outputs": [],
   "source": [
    "gc.collect()\n",
    "print(\"Program completed successfully. Memory freed.\")"
   ]
  }
 ],
 "metadata": {
  "kernelspec": {
   "display_name": ".venv",
   "language": "python",
   "name": "python3"
  },
  "language_info": {
   "name": "python",
   "version": "3.13.3"
  }
 },
 "nbformat": 4,
 "nbformat_minor": 5
}

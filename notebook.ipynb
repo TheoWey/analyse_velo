{
 "cells": [
  {
   "cell_type": "code",
   "execution_count": null,
   "metadata": {},
   "outputs": [],
   "source": [
    "from script import *"
   ]
  },
  {
   "cell_type": "code",
   "execution_count": 2,
   "metadata": {},
   "outputs": [],
   "source": [
    "# Chemin du répertoire\n",
    "path = r\"C:\\Users\\weyth\\Downloads\\Python-20250115\"\n",
    "data_directory = r\"C:\\Users\\weyth\\Downloads\\Python-20250115\\data\"\n",
    "correct_header_data_bikes = ['city', 'station_id', 'request_date', 'answer_date', 'bike_available']\n"
   ]
  },
  {
   "cell_type": "code",
   "execution_count": null,
   "metadata": {},
   "outputs": [],
   "source": [
    "# Demander à l'utilisateur de spécifier l'heure (exemple: \"2022-12-25 14:00:00\")\n",
    "specified_time = \"2022-06-02 20:00:00\"\n",
    "specified_time = datetime.strptime(specified_time, '%Y-%m-%d %H:%M:%S')\n",
    "formatted_time = specified_time.strftime('%Y-%m-%dT%H')\n",
    "print(formatted_time)"
   ]
  },
  {
   "cell_type": "code",
   "execution_count": null,
   "metadata": {},
   "outputs": [],
   "source": [
    "# lecture des fichiers de données\n",
    "bike_stations = open_file(os.path.join(path, \"bike_station.txt\"), \"\\t\")\n",
    "all_data_weather = open_all_files_in_directory(data_directory, f\"data_weather_{formatted_time}\", ',')\n",
    "all_data_bikes = open_all_files_in_directory(data_directory, f\"data_bike_{formatted_time}\", '\\t')\n",
    "\n",
    "# Replace headers and add original headers as a new row\n",
    "all_data_bikes = replace_headers_and_add_original(all_data_bikes, correct_header_data_bikes)"
   ]
  },
  {
   "cell_type": "code",
   "execution_count": null,
   "metadata": {},
   "outputs": [],
   "source": [
    "# suppression des doublons\n",
    "bike_stations = bike_stations.drop_duplicates()\n",
    "filtered_data_bikes = [df.drop_duplicates() for df in all_data_bikes]\n",
    "filtered_data_weather = [df.drop_duplicates() for df in all_data_weather]"
   ]
  },
  {
   "cell_type": "code",
   "execution_count": null,
   "metadata": {},
   "outputs": [],
   "source": [
    "# nettoyage des données\n",
    "cleaned_data_bikes = [clean_data(df) for df in filtered_data_bikes]\n",
    "cleaned_data_weather = [clean_data(df) for df in filtered_data_weather]"
   ]
  },
  {
   "cell_type": "code",
   "execution_count": null,
   "metadata": {},
   "outputs": [],
   "source": [
    "# Merge bike station data with bike data based on 'id'\n",
    "merged_data_bikes = []\n",
    "for df in cleaned_data_bikes:\n",
    "    if 'id' in bike_stations.columns and df.columns[1] in df.columns:\n",
    "        merged_df = pd.merge(df, bike_stations, left_on=df.columns[1], right_on='id')\n",
    "        merged_data_bikes.append(merged_df)\n",
    "    else:\n",
    "        print(f\"Skipping merge for dataframe due to missing columns: {df.columns[1]} or 'id'\")"
   ]
  }
 ],
 "metadata": {
  "kernelspec": {
   "display_name": "Python 3",
   "language": "python",
   "name": "python3"
  },
  "language_info": {
   "codemirror_mode": {
    "name": "ipython",
    "version": 3
   },
   "file_extension": ".py",
   "mimetype": "text/x-python",
   "name": "python",
   "nbconvert_exporter": "python",
   "pygments_lexer": "ipython3",
   "version": "3.11.9"
  }
 },
 "nbformat": 4,
 "nbformat_minor": 2
}

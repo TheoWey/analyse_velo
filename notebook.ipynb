{
 "cells": [
  {
   "cell_type": "code",
   "execution_count": null,
   "metadata": {},
   "outputs": [],
   "source": [
    "from script import *"
   ]
  },
  {
   "cell_type": "code",
   "execution_count": 2,
   "metadata": {},
   "outputs": [],
   "source": [
    "# Chemin du répertoire\n",
    "data_directory = r\"C:\\Users\\weyth\\Downloads\\Python-20250110\\data\""
   ]
  },
  {
   "cell_type": "code",
   "execution_count": null,
   "metadata": {},
   "outputs": [],
   "source": [
    "\n",
    "# Charger les données \\n for tab\n",
    "all_data_weather = open_all_files_in_directory(data_directory, \"data_weather_2022-12-25\", ',')\n",
    "all_data_bike = open_all_files_in_directory(data_directory, \"data_bike_2022-12-25\", '\\t')\n",
    "# Filtrer les données pour garder uniquement \"amiens\" et \"marseille\"\n",
    "filtered_data_weather = filter_dataframes(all_data_weather, filter_column='name', filter_values=['Amiens','Marseille'])\n",
    "filtered_data_bike = filter_dataframes(all_data_bike, filter_column='name', filter_values=['Amiens','Marseille'])"
   ]
  }
 ],
 "metadata": {
  "kernelspec": {
   "display_name": "Python 3",
   "language": "python",
   "name": "python3"
  },
  "language_info": {
   "codemirror_mode": {
    "name": "ipython",
    "version": 3
   },
   "file_extension": ".py",
   "mimetype": "text/x-python",
   "name": "python",
   "nbconvert_exporter": "python",
   "pygments_lexer": "ipython3",
   "version": "3.11.9"
  }
 },
 "nbformat": 4,
 "nbformat_minor": 2
}

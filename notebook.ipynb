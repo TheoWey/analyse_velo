{
 "cells": [
  {
   "cell_type": "code",
   "execution_count": null,
   "metadata": {},
   "outputs": [],
   "source": [
    "from script import *"
   ]
  },
  {
   "cell_type": "code",
   "execution_count": 2,
   "metadata": {},
   "outputs": [],
   "source": [
    "# Chemin du répertoire\n",
    "path = r\"C:\\Users\\weyth\\Downloads\\Python-20250115\"\n",
    "data_directory = r\"C:\\Users\\weyth\\Downloads\\Python-20250115\\data\"\n",
    "correct_header_data_bikes = ['city', 'station_id', 'request_date', 'answer_date', 'bike_available']\n"
   ]
  },
  {
   "cell_type": "code",
   "execution_count": null,
   "metadata": {},
   "outputs": [],
   "source": [
    "# Demander à l'utilisateur de spécifier l'heure (exemple: \"2022-12-25 14:00\")\n",
    "specified_time = \"2022-06-02 19:58\"\n",
    "specified_time = datetime.strptime(specified_time, '%Y-%m-%d %H:%M')\n",
    "formatted_time = specified_time.strftime('%Y-%m-%dT%H')"
   ]
  },
  {
   "cell_type": "code",
   "execution_count": null,
   "metadata": {},
   "outputs": [],
   "source": [
    "# lecture des fichiers de données\n",
    "data_station = tools.open_all_files_in_directory(path, \"bike_station\", '\\t')\n",
    "data_weather = tools.open_all_files_in_directory(data_directory, f\"data_weather_{formatted_time}\", ',')\n",
    "data_bike = tools.open_all_files_in_directory(data_directory, f\"data_bike_{formatted_time}\", '\\t')\n",
    "data_pollution = tools.open_all_files_in_directory(data_directory, f\"data_pollution_{formatted_time}\", ',')"
   ]
  },
  {
   "cell_type": "code",
   "execution_count": null,
   "metadata": {},
   "outputs": [],
   "source": [
    "[df.replace_headers_and_add_original(correct_header_data_bikes) for df in data_bike]\n",
    "\n",
    "[df.filter_dataframes('city', ['amiens', 'marseille']) for df in data_station]\n",
    "[df.filter_dataframes('city', ['amiens', 'marseille']) for df in data_weather]\n",
    "[df.filter_dataframes('city', ['amiens', 'marseille']) for df in data_bike]"
   ]
  },
  {
   "cell_type": "code",
   "execution_count": null,
   "metadata": {},
   "outputs": [],
   "source": [
    "# Call the function to create a bike station map\n",
    "[tools.create_bike_station_map(data_station.data, data_bike.data, specified_time) for data_station, data_bike in zip(data_station, data_bike)]"
   ]
  }
 ],
 "metadata": {
  "kernelspec": {
   "display_name": "Python 3",
   "language": "python",
   "name": "python3"
  },
  "language_info": {
   "codemirror_mode": {
    "name": "ipython",
    "version": 3
   },
   "file_extension": ".py",
   "mimetype": "text/x-python",
   "name": "python",
   "nbconvert_exporter": "python",
   "pygments_lexer": "ipython3",
   "version": "3.11.9"
  }
 },
 "nbformat": 4,
 "nbformat_minor": 2
}
